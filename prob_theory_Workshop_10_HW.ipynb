{
 "cells": [
  {
   "cell_type": "markdown",
   "metadata": {},
   "source": [
    "Провести дисперсионный анализ для определения того, есть ли различия среднего роста среди взрослых футболистов, хоккеистов и штангистов. Даны значения роста в трех группах случайно выбранных спортсменов: Футболисты: 173, 175, 180, 178, 177, 185, 183, 182. Хоккеисты: 177, 179, 180, 188, 177, 172, 171, 184, 180. Штангисты: 172, 173, 169, 177, 166, 180, 178, 177, 172, 166, 170. "
   ]
  },
  {
   "cell_type": "code",
   "execution_count": 18,
   "metadata": {},
   "outputs": [
    {
     "data": {
      "text/plain": [
       "5.500053450812598"
      ]
     },
     "execution_count": 18,
     "metadata": {},
     "output_type": "execute_result"
    }
   ],
   "source": [
    "import numpy as np\n",
    "from scipy import stats\n",
    "\n",
    "#Футболисты\n",
    "y1 = np.array([173, 175, 180, 178, 177, 185, 183, 182])\n",
    "# Хоккеисты\n",
    "y2 = np.array([177, 179, 180, 188, 177, 172, 171, 184, 180])\n",
    "#Штангисты\n",
    "y3 = np.array([172, 173, 169, 177, 166, 180, 178, 177, 172, 166, 170])\n",
    "\n",
    "#Проверка на нормальность (по очереди все)\n",
    "#stats.shapiro(y1)\n",
    "#pvalue > alpha -> распределение нормальное\n",
    "\n",
    "total = np.concatenate((y1, y2, y3))\n",
    "\n",
    "k = 3\n",
    "n = y1.size + y2.size + y3.size #28\n",
    "\n",
    "y1_mean = np.mean(y1)\n",
    "y2_mean = np.mean(y2)\n",
    "y3_mean = np.mean(y3)\n",
    "\n",
    "total_mean = np.mean(total)\n",
    "\n",
    "S_total = np.sum((total - total_mean)**2)\n",
    "S_f = np.sum((y1_mean - total_mean)**2) * y1.size + np.sum((y2_mean - total_mean)**2) * y2.size + np.sum((y3_mean - total_mean)**2) * y3.size\n",
    "S_ost = np.sum((y1 - y1_mean)**2) + np.sum((y2 - y2_mean)**2) + np.sum((y3 - y3_mean)**2)\n",
    "\n",
    "D_f = S_f / (k - 1)\n",
    "D_ost = S_ost / (n - k)\n",
    "\n",
    "F_n = D_f / D_ost\n",
    "F_n"
   ]
  },
  {
   "cell_type": "markdown",
   "metadata": {},
   "source": [
    "Табличное значение критерия Фишера для k1 = 3 и k2 = 25: 2.99\n",
    "\n",
    "Соответственно т.к. 5.5 > 2.99 делаем вывод, что различия среднего роста есть\n"
   ]
  }
 ],
 "metadata": {
  "kernelspec": {
   "display_name": "Python 3",
   "language": "python",
   "name": "python3"
  },
  "language_info": {
   "codemirror_mode": {
    "name": "ipython",
    "version": 3
   },
   "file_extension": ".py",
   "mimetype": "text/x-python",
   "name": "python",
   "nbconvert_exporter": "python",
   "pygments_lexer": "ipython3",
   "version": "3.10.11"
  },
  "orig_nbformat": 4
 },
 "nbformat": 4,
 "nbformat_minor": 2
}
